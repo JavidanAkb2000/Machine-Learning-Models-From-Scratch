{
  "nbformat": 4,
  "nbformat_minor": 0,
  "metadata": {
    "colab": {
      "provenance": []
    },
    "kernelspec": {
      "name": "python3",
      "display_name": "Python 3"
    },
    "language_info": {
      "name": "python"
    }
  },
  "cells": [
    {
      "cell_type": "code",
      "execution_count": null,
      "metadata": {
        "id": "G4MbdUH_dzde"
      },
      "outputs": [],
      "source": [
        "import numpy as np\n",
        "import matplotlib.pyplot as plt"
      ]
    },
    {
      "cell_type": "code",
      "source": [
        "# Understanding the problem\n",
        "\"\"\"\n",
        "We're going to code Linear Regression from scratch with numpy and pure math via `Python`. We gon draw via `matplotlib`\n",
        "\n",
        "Details:\n",
        "Linear Regression is the way to model the realtionship between dependent(y aka prediction) and independet(x aka input)\n",
        "house_sizes = [1000, 1200, 1400, 1600]  # These are x values\n",
        "house_prices = [150, 180, 210, 240]     # These are y values\n",
        "\n",
        "We can use `house_sizes` in order to predict `house_prices`:\n",
        "  After training(our model) we can come up with a solution like below:\n",
        "  Price= 0.1 * Size + 50 ---> 0.1*100 = 100 + 50 = 150(house_prices[0])\n",
        "  So `y` = 0.1 * x + 50\n",
        "  `m` here is our slope(aka weight) which means how line aligns when we play with `x` via `m`. Weight controls how the line changes it's `direction and steepness`  without changing it is starting point(aka b)\n",
        "  `b` points the value of `y(aka predictions)` when `x`(aka input is 0) also knows as the starting point of our `line`.It either can be origin or down through the `y` axis or up through the `y` axis.\n",
        "\n",
        " Important:\n",
        " If your intercept `b` is in the bad location(aka has bad value/prediction) then it does not matter how good is your slope `m`. Because even though you play with `m` it you will not be able to\n",
        " find the best fit because `data points(aka (x,y))` might be in center meanwhile your `b` is placed on `y` axis point 3. Best fit wont be possible. So  you have to move your `b` to the starting point center(aka origin)\n",
        "\n",
        " Example use case of bad `b`:\n",
        " # Let's say our data looks like this:\n",
        " x = [1, 2, 3, 4, 5]\n",
        " y = [101, 103, 105, 107, 109]  # Data clusters around y = 100 - 110\n",
        "\n",
        " BAD: Wrong value of `b`\n",
        " if b = 3 then y = mx + 3\n",
        " even with perfect slope `m`= 2 , y = 2x + 3\n",
        " Predictions: [5, 7, 9, 11, 13] - WAY off from actual [101, 103, 105, 107, 109]\n",
        "\n",
        " Good: Correct value of `b`\n",
        " # GOOD: Correct b value\n",
        " # If b = 99, then: y = 2*x + 99\n",
        " # Predictions: [101, 103, 105, 107, 109] - Perfect fit!\n",
        "\n",
        " Important:\n",
        " The best `b` depends on the best `m`. Becuase according to the directio/steepness of `m`,  `b` resizes itself to go either up or down\n",
        "\n",
        " For animational info - https://bharathikannann.github.io/blogs/a-visual-intro-to-linear-regression-math/\n",
        "\"\"\"\n",
        "\n",
        "\"\"\"\n",
        "Steps to take in order to tackle the problem.\n",
        "\n",
        "| Step | Title                         | Purpose                                      |\n",
        "| ---- | ----------------------------- | -------------------------------------------- |\n",
        "| 1    | Define Dataset (x, y)         | Set your input and target values             |\n",
        "| 2    | Initialize Parameters (w, b)  | Randomly or zero-init the slope & intercept  |\n",
        "| 3    | Predict `y_hat = wx + b`      | Linear prediction formula                    |\n",
        "| 4    | Compute Loss (MSE)            | Measure how bad predictions are              |\n",
        "| 5    | Compute Gradients (dw, db)    | Find how to update w, b to reduce error      |\n",
        "| 6    | Update Parameters             | Apply gradient descent using learning rate   |\n",
        "| 7    | Train for N Epochs            | Loop steps 3 → 6 until convergence           |\n",
        "| 8    | Final Evaluation / Plot (opt) | Check how well the final model fits the data |\n",
        "\n",
        "\n",
        "\"\"\""
      ],
      "metadata": {
        "colab": {
          "base_uri": "https://localhost:8080/",
          "height": 109
        },
        "collapsed": true,
        "id": "5uXDterxd6mF",
        "outputId": "c72e59a6-d57b-416f-ea46-ce6ddfcc7255"
      },
      "execution_count": null,
      "outputs": [
        {
          "output_type": "execute_result",
          "data": {
            "text/plain": [
              "'\\nSteps to take in order to tackle the problem.\\n\\n| Step | Title                         | Purpose                                      |\\n| ---- | ----------------------------- | -------------------------------------------- |\\n| 1    | Define Dataset (x, y)         | Set your input and target values             |\\n| 2    | Initialize Parameters (w, b)  | Randomly or zero-init the slope & intercept  |\\n| 3    | Predict `y_hat = wx + b`      | Linear prediction formula                    |\\n| 4    | Compute Loss (MSE)            | Measure how bad predictions are              |\\n| 5    | Compute Gradients (dw, db)    | Find how to update w, b to reduce error      |\\n| 6    | Update Parameters             | Apply gradient descent using learning rate   |\\n| 7    | Train for N Epochs            | Loop steps 3 → 6 until convergence           |\\n| 8    | Final Evaluation / Plot (opt) | Check how well the final model fits the data |\\n\\n\\n'"
            ],
            "application/vnd.google.colaboratory.intrinsic+json": {
              "type": "string"
            }
          },
          "metadata": {},
          "execution_count": 53
        }
      ]
    },
    {
      "cell_type": "code",
      "source": [
        "# Step 1: Define our dataset - Set your input and target variables\n",
        "x = np.array([1, 2, 3, 4, 5])\n",
        "y = np.array([3, 5, 7, 9, 11])\n",
        "\n",
        "\"\"\"\n",
        "According to our dataset we can say that our perfect linear data is `y = 2x + 1` according to our formula `y = mx + b`. So our model should converge to m = 2, b =1. `x` is input, `y` is target.\n",
        "at `y = 2x + 1` line will be perfect fit to the most of our data. This way we can nuemrically and visually can learn if our model is learning correctly.\n",
        "\"\"\"\n",
        "\n",
        "# Step 2: Initalize the parameters (w, b) - Randomly or zero-init the slope & intercept\n",
        "m, b = 0, 0\n",
        "\n",
        "# Step 3: Predict `y_hat = mx + b` - Linear prediction formula\n",
        "def predict(m, x, b):\n",
        "  y_hat = np.array([])\n",
        "  for i in range(len(x)):\n",
        "    y_hat = np.append(y_hat, m*x[i] + b)\n",
        "\n",
        "  return y_hat\n",
        "\n",
        "print(predict(5, x, 3))\n",
        "\n",
        "# Step 4: Compute Loss (MSE) - Measure how bad predictions are. Lookup the formula for MSE before coming here\n",
        "def compute_cost(y_hat, y):\n",
        "  \"\"\"\n",
        "  Here we are comuting loss by subtracting original value that we wanna predict which is y and the predicted value which is y_hat. And then we square it. Why? Well, let's have a look below.\n",
        "  1.When we square our error we get it bigger. Actually we are massaging/preparing our error to be destroyed by Gradient Descent(we gon hav a lookat it soon). Gradient Descent always punishes big erros first and more\n",
        "  2.Squaring helps us to eliminate negative values. Imagine your y_hat - y is -5 and at next step y_hat - y is 5. And? when you will add them together(according to formula) they will eat eachother(-5 + 5 = 0). So you lose prediction\n",
        "  3.Big errors gets punished more\n",
        "\n",
        "  Note: We're going to use this function in order to measure how well our model performs at the end. Each time Gradient Descent updates `w` and `b` we're going to call this function in order to see the error.\n",
        "  The less error is the better model performs.\n",
        "  \"\"\"\n",
        "  # loss = np.square(y_hat - y)/len(y)\n",
        "  loss = np.square(np.subtract(y_hat, y)).mean() # Let's say 139.0 is our mean(aka average) error. But in order ot find true error we gotta sqrt(loss) so we will get 11.8. This means on average, your predictions are about 11.8 units away from the true values\n",
        "  return loss\n",
        "\n",
        "print(compute_cost(predict(5 , x, 3), y))\n",
        "\n",
        "# Compute gradients (dw, db) - Find how to update w and b to reduce error(between y_hat and y)\n",
        "# dw - derivative of w or w.t.r(with respect to) w\n",
        "# db - derivative of b or w.t.r(with respect to) b\n",
        "\n",
        "def compute_gradients(x, y, y_hat):\n",
        "  \"\"\"\n",
        "  We have to use Gradient Descent Mathematical Derivative formula in order to take derivative of `m` and `b` with respect to `loss`(the lost that gradient descent formula has by default inside there). It is not the same loss we get form `compute_cost function`\n",
        "  Derivative means `slope`. Slope is the shape of the line we get by playing with `m`.Check the animation link above to play with `m` and `b`.Despite `b` also has affect when it comes to line , we use `m` to define slope. Why? look below\n",
        "\n",
        "  Why `m` defines `slope` despite `b` is also moving line up and down through `y` axis?\n",
        "  1. When we talk about `slope` we care about steepness(aka where line is tilting). Steepness represents the rate of change. Derivatice is all about `change`.\n",
        "  The steeper the `slope` is the faster is the rate of change\n",
        "  The less stepper/flatter the `slope` is the slower is the rate of change\n",
        "  This relationship helps to understand how output changes when we change the input. Because input is x and output is y so the linewe gon draw via (x,y) has steepness\n",
        "\n",
        "  We are going to take derivative of `m` and `b` with respect to `loss`. We're going to use partial derivative\n",
        "\n",
        "  \"\"\"\n",
        "  n = len(x)\n",
        "  dw = (2/n) * np.dot(np.subtract(y_hat, y), x)\n",
        "  db = (2/n) * np.sum(np.subtract(y_hat, y))\n",
        "\n",
        "  \"\"\"\n",
        "  What we have just done is a magic where two variables `m` and `b` taking their parts to draw the perfect line that fits the data. How? Look below\n",
        "  When we do `dw` with `gradient descent` we actually tell to our model to compute the `slope` while ignoring `b(aka intercept)`. Because in order to draw the best intercept `b` we have find the best slope.\n",
        "  So our model be like okay we took partial derivative w.t.r to `m` which means ignore the `b(aka intercept and either go down or up on the y axis)` because we only care about `steepness` currently\n",
        "\n",
        "  Once we done with `dw` we get to `db`\n",
        "\n",
        "  Our models says okay i found `w` via `dw` so let's draw intercept `b`(aka move up or down through y axis to help  the slope to fit the data) therefore move our line up or down on the `y` axis to find the best fit.\n",
        "  And for each `w` and `b` we keep calling the `compute_cost` in order to understand how many times `dw` and `db` changed `w` and `b` changed.\n",
        "  \"\"\"\n",
        "  return dw, db\n",
        "\n",
        "print(compute_gradients(x, y, predict(5, x, 3)))\n",
        "\n",
        "\"\"\"\n",
        "Important NOTE about `compute_gradient` and what it's result means:\n",
        "This is the result we got from `compute_gradient` function - (np.float64(78.0), np.float64(22.0))\n",
        "\n",
        "78.0 for `dw` - `w`\n",
        "22.0 for `db` - `b`\n",
        "\n",
        "It says - If you move `w` slightly the cost will go up a lot by `78 * by that change`\n",
        "It also says - If you move `b` slightly the cost will go up a lot by `22 * by that change`\n",
        "\n",
        "This huge cost. It means you are not walking you are jumping down the road. You may miss your target. You have to take small steps instead of jumping in order to avoid important miss\n",
        "`miss` here referring to finding the best `w` and `b`. Huge cost(such as 78 and 22) means you are not checking points but you are counting on luck by checking the random points.\n",
        "You may jump over of your  `best fit` line coordinates.\n",
        "And that's why we introduce using something called `learning_rate`\n",
        "\n",
        "`learning_rate` just multiplying your cost gradient with decimal point number and gets it smaller sometimes under `1`.Which tells to your model to take smaller steps down the road so you wont miss any improtant points\n",
        "\n",
        "Typical `learning rate` values to try:\n",
        "\n",
        "learning_rate = 0.01    # Most common starting point\n",
        "learning_rate = 0.001   # Conservative (slower but safer)\n",
        "learning_rate = 0.1     # Aggressive (faster but riskier)\n",
        "learning_rate = 0.0001  # Very conservative\n",
        "\"\"\"\n",
        "\n",
        "# Update parameters - Apply gradient descent using learning rate\n",
        "\n",
        "def update_parameters(m, b, dw, db, learning_rate):\n",
        "  m = m - learning_rate * dw\n",
        "  b = b - learning_rate * db\n",
        "\n",
        "  return m, b\n",
        "\n",
        "\n",
        "print(update_parameters(m, b, *compute_gradients(x, y, predict(5, x, 3)),0.01))\n",
        "\n",
        "\n",
        "# Train for N epochs\n",
        "def train(x, y, epochs, learning_rate):\n",
        "  \"\"\"\n",
        "  We need to now join all those functions we wrote in a loop in order ot keep training our model until it converges.\n",
        "  Steps:\n",
        "  Predict ---> compute loss ---> compute gradients ---> update parameters\n",
        "\n",
        "  Details:\n",
        "  Let's train Linear Regression model with gradient descent\n",
        "  - x: input features (array)\n",
        "  - y: target values (array)\n",
        "\n",
        "  - epochs: number of training iterations\n",
        "  - learning_rate: step size for gradient descent in order to go down the road carefully\n",
        "\n",
        "  Returns:\n",
        "  trained parameters for (m and b)\n",
        "  cost history for plotting later\n",
        "\n",
        "\n",
        "  \"\"\"\n",
        "\n",
        "  # Initialize parameters\n",
        "  m, b = 0, 0\n",
        "  cost_history = [] # for storing costs to plot how it has changed while training\n",
        "  print(\"Start training.....\")\n",
        "  print(\"Target: y= 2x + 1\")\n",
        "  print(f\"Initial parameters: m = {m}, b = {b}\")\n",
        "  print(\"-\" * 50)\n",
        "\n",
        "  # Let's start looping\n",
        "  for epoch in range(epochs):\n",
        "\n",
        "    # Predict here\n",
        "    y_hat = predict(m, x, b)\n",
        "\n",
        "    # Compute and add cost here\n",
        "    cost = compute_cost(y_hat, y)\n",
        "    cost_history.append(cost)\n",
        "\n",
        "    # Compute gradients\n",
        "    dw, db = compute_gradients(x, y, y_hat)\n",
        "\n",
        "    # Update parameters\n",
        "    m, b = update_parameters(m, b, dw, db, learning_rate)\n",
        "\n",
        "    # Print progress for every 100 epochs\n",
        "    if epoch % 100 == 0:\n",
        "      print(f\"Epoch {epoch}, Cost = {cost:8.4f}, m = {m:6.3f}, b = {b:6.3f}\")\n",
        "\n",
        "\n",
        "  print(\"-\"*50)\n",
        "  print(\"Training completed!\")\n",
        "  print(f\"Final parameters: m={m:.3f}, b={b:.3f}\")\n",
        "  print(f\"Final cost: {cost_history[-1]:.6f}\")\n",
        "  print(\"Target was m =2, b = 1\")\n",
        "\n",
        "  return m, b, cost_history\n",
        "\n",
        "\n",
        "# Train the model\n",
        "final_m, final_b, cost_history = train(x, y, epochs=1000, learning_rate = 0.01)\n",
        "\n",
        "# Test the final model\n",
        "print(\"\\nTesting final model:\")\n",
        "final_predictions = predict(final_m, x, final_b)\n",
        "print(f\"Predictions: {final_predictions}\")\n",
        "print(f\"Actual:      {y}\")\n",
        "print(f\"Difference:  {final_predictions - y}\")"
      ],
      "metadata": {
        "colab": {
          "base_uri": "https://localhost:8080/"
        },
        "id": "qwTzvdlZz-Wy",
        "outputId": "fd483b42-eda0-4cfb-cd2f-f6bfe09fc8f0"
      },
      "execution_count": null,
      "outputs": [
        {
          "output_type": "stream",
          "name": "stdout",
          "text": [
            "[ 8. 13. 18. 23. 28.]\n",
            "139.0\n",
            "(np.float64(78.0), np.float64(22.0))\n",
            "(np.float64(-0.78), np.float64(-0.22))\n",
            "Start training.....\n",
            "Target: y= 2x + 1\n",
            "Initial parameters: m = 0, b = 0\n",
            "--------------------------------------------------\n",
            "Epoch 0, Cost =  57.0000, m =  0.500, b =  0.140\n",
            "Epoch 100, Cost =   0.0159, m =  2.082, b =  0.706\n",
            "Epoch 200, Cost =   0.0081, m =  2.058, b =  0.790\n",
            "Epoch 300, Cost =   0.0041, m =  2.041, b =  0.851\n",
            "Epoch 400, Cost =   0.0021, m =  2.030, b =  0.893\n",
            "Epoch 500, Cost =   0.0011, m =  2.021, b =  0.924\n",
            "Epoch 600, Cost =   0.0005, m =  2.015, b =  0.946\n",
            "Epoch 700, Cost =   0.0003, m =  2.011, b =  0.961\n",
            "Epoch 800, Cost =   0.0001, m =  2.008, b =  0.973\n",
            "Epoch 900, Cost =   0.0001, m =  2.005, b =  0.980\n",
            "--------------------------------------------------\n",
            "Training completed!\n",
            "Final parameters: m=2.004, b=0.986\n",
            "Final cost: 0.000036\n",
            "Target was m =2, b = 1\n",
            "\n",
            "Testing final model:\n",
            "Predictions: [ 2.98987045  4.99375103  6.99763161  9.0015122  11.00539278]\n",
            "Actual:      [ 3  5  7  9 11]\n",
            "Difference:  [-0.01012955 -0.00624897 -0.00236839  0.0015122   0.00539278]\n"
          ]
        }
      ]
    },
    {
      "cell_type": "code",
      "source": [
        "# Plott the line\n",
        "plt.figure(figsize=(8, 5))\n",
        "plt.scatter(x, y, color='blue', label='Actual Data')             # True data points\n",
        "plt.plot(x, final_predictions, color='red', label='Learned Line')            # Predicted line\n",
        "plt.scatter(x, final_predictions, color='green', marker='x', label='Predictions')  # Predicted dots\n",
        "\n",
        "# Labels and legend\n",
        "plt.title(\"Linear Regression Fit (From Scratch)\")\n",
        "plt.xlabel(\"x\")\n",
        "plt.ylabel(\"y\")\n",
        "plt.legend()\n",
        "plt.grid(True)\n",
        "plt.show()"
      ],
      "metadata": {
        "colab": {
          "base_uri": "https://localhost:8080/",
          "height": 487
        },
        "id": "pq3ipkG6EJAO",
        "outputId": "eaff3289-c1cb-4a9a-c695-4fd51cdc2e35"
      },
      "execution_count": null,
      "outputs": [
        {
          "output_type": "display_data",
          "data": {
            "text/plain": [
              "<Figure size 800x500 with 1 Axes>"
            ],
            "image/png": "[encoded data removed]"
          },
          "metadata": {}
        }
      ]
    },
    {
      "cell_type": "code",
      "source": [
        "# Alright cool, now let's try to code Linear Regression with multi-feature support.\n",
        "\n",
        "\"\"\"\n",
        "GOAL and DESCRIPTION:\n",
        "\n",
        "Goal - is to LEVEL UP our existing Linear Regression model from single-feature to multi-feature and predict house prices based on 3(newly added) features\n",
        "\n",
        "Description:\n",
        "\n",
        "Now we are going to be more real and use our Linear Regression model on real world case.We are going to level up our model.\n",
        "First we going to create new `X` and add houses with 3 features and then we are going to have\n",
        "`y` for the actual prices.\n",
        "\n",
        "We are going to modify some functions, therefore  I've decided to code in new column.\n",
        "\n",
        "Step 1: - Explain the change we going to do and apply it.\n",
        "\"\"\"\n",
        "\n",
        "# Step 1 - goes here:\n",
        "\n",
        "# Things to do - Upgrade `X` and `y` with house features and prices.\n",
        "X = np.array([\n",
        "    [1000, 2, 10], # House 1: 1000 sqrft, 2 bedrooms, 10 years\n",
        "    [1200, 3, 5],  # House 2: 1200 sqrft, 3 bedrooms, 5 years\n",
        "    [1400, 2, 20], # House 3: 1400 sqrft, 2 bedrooms, 20 years\n",
        "    [1600, 4, 2]   # House 4: 1600 sqrft, 4 bedrooms, 2 years\n",
        "])\n",
        "\n",
        "# Let's also define our vector(aka array or list) with the actual prices\n",
        "y = np.array([220, 280, 260, 366]) # Exact house prices for each house. We gotta predict closer to these values\n",
        "\n",
        "\"\"\"\n",
        "Each ROW = One house (one sample)\n",
        "Each COLUMN = One feature\n",
        "\n",
        "Column 0: Size (1000, 1200, 1400, 1600)\n",
        "Column 1: Bedrooms (2, 3, 2, 4)\n",
        "Column 2: Age (10, 5, 20, 2)\n",
        "\n",
        "So X[0] = [1000, 2, 10] = \"House 1 has 1000 sqft, 2 bedrooms, 10 years old\"\n",
        "and etc...\n",
        "\n",
        "\"\"\"\n",
        "\n",
        "print(X)\n",
        "print(\"-\"*50)\n",
        "print(y)\n",
        "\n",
        "# Explaining why this breaks our existing model\n",
        "\n",
        "\"\"\"\n",
        "Well buddy, eyes up here bcz a litte too broad one goes here. HEADS UP\n",
        "\n",
        "Out current `predict` function performs witht he `equation` called y = wx + b.(w and m are the same thing. so let's say w)\n",
        "Heads Up!!! - we have only on `w` there. So? `w` stands for `weight` which means `w` always lets our model to know how much the feature is important. in existing mode we have only one featrure. Look below\n",
        "\n",
        "existing `x` - x = np.array([1, 2, 3, 4, 5]). let's say numbers in our `x` are the bedrooms. So? We are just given 1 feature and it is `bedroom` and we are asked to predict only on that? Bullshit...\n",
        "Since we have only one `feature` which is `bedroom` inherently we only need one `w(aka weight)` in order to explain to our model how much is that one feature `bedroom` is important. You get it? Each time\n",
        "we're going to take on number(bedroom count) from our existing `x` and multiply it with the `w(aka weight)` in order to point out the importance of them - `w*x[i] + b`\n",
        "\n",
        "So where the FUCK is problem here?\n",
        "\n",
        "Problem is in our modified `X`. Becasue we dont have only bedrooms but also sqrft and yearsss. in total `sqrft, bedrooms, year`. You know what does it mean? It means that we gotta have 3 different `w` variables.\n",
        "Why? because each of those features(sqrft, bedrooms, year) are their own importance level. How? Look below\n",
        "\n",
        "Older hosue may decrease the price\n",
        "More bedrooms ends up with high price\n",
        "High sqrft means higher area so higher price.\n",
        "\n",
        "Now you getting it? - Imagine you have only one  `w` and you tryna to point out the importance of all those 3 features with only one variable.WTF is that? So they all gonna have the same importance level?\n",
        "BULLSHITTTTT HAHAHAHA\n",
        "\"\"\"\n",
        "\n",
        "# let's declare our weights now: we are going to creat a list of weights with the length of features which is 3.\n",
        "# w = np.array([0, 0, 0]) # why zeros? Remember that in the beginning our model is dump. It doesnt know anything. It needs to learn. So it is going to learn and update those values in `w` to adjust weights properly\n",
        "\n",
        "# even better apperoach is to actually take the size of features from `X` itself and create array of `w`\n",
        "w = np.zeros(X.shape[1]) # shape[0] going to return the count of rows whichis 4 but shape[1] going to return the count of columns which is 3.\n",
        "b = 0\n",
        "\"\"\"\n",
        "For better intuition:\n",
        "w = [w1, w2, w3] Where:\n",
        "w1 - how much size affects price\n",
        "w2 - how much bedrooms affect price\n",
        "w3 - how much age affects price\n",
        "\n",
        "therefore, Our predictions become:\n",
        "y_hat = w1*size + w2*bedrooms+  w3*age + b or in vector form - y_hat = np.dot(w, X[i] + b) # Doc product\n",
        "\n",
        "\n",
        "Magic of DOT product:\n",
        "\n",
        "for e.g:  w = [0.1, 50, -2] # weights\n",
        "X[0] = [1000, 2, 10] # house 1 with features\n",
        "\n",
        "np.dot(w, X[0]) = 0.1*1000 + 50*2 + (-2)*10 =\n",
        "                = 100 + 100 - 20\n",
        "\n",
        "This says, size adds 100$, bedrooms add 100$, age subtracts 20\n",
        "\n",
        "So, our model now can learn that:\n",
        "\n",
        "Your model can now learn that:\n",
        "\n",
        "Bigger houses cost more (w1 > 0)\n",
        "More bedrooms cost more (w2 > 0)\n",
        "Older houses cost less (w3 < 0)\n",
        "\n",
        "Good job isn't it?\n",
        "\n",
        "\"\"\"\n",
        "\n",
        "# Step 2: Changing the predict function so it can support multi-features\n",
        "\n",
        "# our old predict function supports single feature\n",
        "\"\"\"\n",
        "def predict(m, X, b):\n",
        "  return m*X + b\n",
        "\"\"\"\n",
        "\n",
        "# Updated function\n",
        "def predict_with_multi_features(w, X, b):\n",
        "  return np.dot(X, w) + b"
      ],
      "metadata": {
        "id": "q3d5o3IQElig",
        "colab": {
          "base_uri": "https://localhost:8080/"
        },
        "outputId": "2be0d515-f417-46a1-ca60-fb6dd79dc9f0"
      },
      "execution_count": null,
      "outputs": [
        {
          "output_type": "stream",
          "name": "stdout",
          "text": [
            "[[1000    2   10]\n",
            " [1200    3    5]\n",
            " [1400    2   20]\n",
            " [1600    4    2]]\n",
            "--------------------------------------------------\n",
            "[220 280 260 366]\n"
          ]
        }
      ]
    },
    {
      "cell_type": "code",
      "source": [
        "predictions = predict_with_multi_features(w, X, b)\n",
        "predictions\n",
        "\n",
        "\"\"\"\n",
        "Perfect now our multi-feature function works. If you wanna see that if it predicts `y` correctly then just grab following things and plug in the function above and run.\n",
        "\n",
        "Things to check:\n",
        "\n",
        "# Note - these are the perfect numbers where I found mathematically. So our model gotta find the same. but not now. Im giving you those so you can unerstand our function. However,\n",
        "our model goig to find those `weights` and `bias` after multiple times of iterations.\n",
        "\n",
        "w = np.array([0.15, 20, -2])  # weights\n",
        "b = 50  # bias\n",
        "\"\"\""
      ],
      "metadata": {
        "colab": {
          "base_uri": "https://localhost:8080/",
          "height": 72
        },
        "id": "qF9OMTfbN6fl",
        "outputId": "d7d42b37-d288-461d-ba4f-9dfd806c95df"
      },
      "execution_count": null,
      "outputs": [
        {
          "output_type": "execute_result",
          "data": {
            "text/plain": [
              "'\\nPerfect now our multi-feature function works. If you wanna see that if it predicts `y` correctly then just grab following things and plug in the function above and run.\\n\\nThings to check:\\n\\n# Note - these are the perfect numbers where I found mathematically. So our model gotta find the same. but not now. Im giving you those so you can unerstand our function. However,\\nour model goig to find those `weights` and `bias` after multiple times of iterations.\\n\\nw = np.array([0.15, 20, -2])  # weights\\nb = 50  # bias\\n'"
            ],
            "application/vnd.google.colaboratory.intrinsic+json": {
              "type": "string"
            }
          },
          "metadata": {},
          "execution_count": 57
        }
      ]
    },
    {
      "cell_type": "code",
      "source": [
        "# compute_cost function going to stay same becasue it takes y and y_prediciton as argument and calcs the difference in order to find the error(distance). So it works perfectly well"
      ],
      "metadata": {
        "id": "VWH9f8AimRK3"
      },
      "execution_count": null,
      "outputs": []
    },
    {
      "cell_type": "code",
      "source": [
        "# compute_gradient modified goes here:\n",
        "\n",
        "# Let's have a quick glimpse to our existing func\n",
        "\n",
        "\"\"\"\n",
        "def compute_gradients(x, y, y_hat):\n",
        "    n = len(x)\n",
        "    dw = (2/n) * np.dot(np.subtract(y_hat, y), x)  # Single feature\n",
        "    db = (2/n) * np.sum(np.subtract(y_hat, y))\n",
        "    return dw, db\n",
        "\n",
        "\"\"\"\n",
        "\n",
        "\"\"\"\n",
        "So, here we are using our existing 1D `w` in order to calcualte the gradients.What is gradient again? Gradient is just a number you get after taking derivative loss((y-y_hat)^2).\n",
        "When u subtract that number from the `weight` it reduces the error.\n",
        "\n",
        "Now, we have modified and upgraded `predict` fucntion that works with multiple features. So ? we no longer can rely on our existin'  `compute_gradient` method.\n",
        "\n",
        "We have to modify it so it's going to be able to calc the error and compute gradient for  2D `X`.\n",
        "\"\"\"\n",
        "\n",
        "# Implementaiton:\n",
        "\n",
        "# `x` becomes `X` and `dw` calcualtion going to change completely\n",
        "\n",
        "def compute_gradients_for_multiple_features(X, y, y_hat):\n",
        "  n = len(x) # number of samples\n",
        "  # let's keep `np.subtract(y_hat, y)` in a variable instead of hardcoding\n",
        "  error = np.subtract(y_hat, y)\n",
        "  dw = (2/n)*np.dot(X.T, error) # I'll explain this aprt because it is dead important. It is the reason why we update this func. Find the explanation with code `Transpose`.\n",
        "  db = (2/n)*np.sum(error) # we controlling the line through the `y` axis.\n",
        "\n",
        "  return dw, db\n",
        "\n",
        "\n",
        "\n",
        "# Transpose:\n",
        "\n",
        "\"\"\"\n",
        "Well, the reason I'm using `X.T` is that i wanna actually swap rows with columns aka houses with features. Look below. I run some codes there.\n",
        "in the bgeinning X is like first row [1000, 2, 10] is `house 1`. one house and all it's features. That's a problem. Becasue when we calculated the `error` in our `compute_gradients_for_multiple_features` function,\n",
        "we have to SUBTRACT it from our features but we ahev to put all same features together first.\n",
        "\n",
        "Such as below:\n",
        "sqrft - [1000, 1200, 1400, 1600] here we can multiply each sqrft with error and add them all toegether and get a value `N`. N means how much error gonna change if you change `w` tiny bit.\n",
        "bedrooms - [2, 3, 2, 4] # same here\n",
        "ages - [10, 5, 20, 2] # same here\n",
        "\n",
        "So, In order to make our X to look like above we use `X.T`.It is numpy and Linear Algebra  practice.Please go and do some practice in numpy and make sure you understand math behind it.\n",
        "\n",
        "\n",
        "SUM IT UP BELOW:\n",
        "\n",
        "What np.dot(X.T, error) Does:\n",
        "Let's say your errors are: error = [10, -5, 8, -3]\n",
        "\n",
        "pythonnp.dot(X.T, error) = np.dot([\n",
        "    [1000, 1200, 1400, 1600],  # Size row\n",
        "    [2, 3, 2, 4],              # Bedroom row\n",
        "    [10, 5, 20, 2]             # Age row\n",
        "], [10, -5, 8, -3])# errors\n",
        "\n",
        "# This gives:\n",
        "# dw[0] = 1000×10 + 1200×(-5) + 1400×8 + 1600×(-3) = gradient for size weight\n",
        "# dw[1] = 2×10 + 3×(-5) + 2×8 + 4×(-3) = gradient for bedroom weight\n",
        "# dw[2] = 10×10 + 5×(-5) + 20×8 + 2×(-3) = gradient for age weight\n",
        "This tells you:\n",
        "\n",
        "How much to change the size weight\n",
        "How much to change the bedroom weight\n",
        "How much to change the age weight\n",
        "\"\"\"\n",
        "\n",
        "# Now let's update update_parameters function\n",
        "\n",
        "def update_parameters_multi_features(w, b, dw, db, learning_rate):\n",
        "    w = w - learning_rate * dw  # w is now array, dw is array\n",
        "    b = b - learning_rate * db  # b is still scalar\n",
        "    return w, b"
      ],
      "metadata": {
        "id": "m51pGP6WoMAM"
      },
      "execution_count": null,
      "outputs": []
    },
    {
      "cell_type": "code",
      "source": [
        "X"
      ],
      "metadata": {
        "colab": {
          "base_uri": "https://localhost:8080/"
        },
        "id": "zyxXLMyTvenI",
        "outputId": "49871118-7326-4707-b8f9-4d26258d78c1"
      },
      "execution_count": null,
      "outputs": [
        {
          "output_type": "execute_result",
          "data": {
            "text/plain": [
              "array([[1000,    2,   10],\n",
              "       [1200,    3,    5],\n",
              "       [1400,    2,   20],\n",
              "       [1600,    4,    2]])"
            ]
          },
          "metadata": {},
          "execution_count": 60
        }
      ]
    },
    {
      "cell_type": "code",
      "source": [
        "X.shape"
      ],
      "metadata": {
        "colab": {
          "base_uri": "https://localhost:8080/"
        },
        "id": "dpTTmLNavfKY",
        "outputId": "57ce28be-8903-4f09-f210-74a7c9c90342"
      },
      "execution_count": null,
      "outputs": [
        {
          "output_type": "execute_result",
          "data": {
            "text/plain": [
              "(4, 3)"
            ]
          },
          "metadata": {},
          "execution_count": 61
        }
      ]
    },
    {
      "cell_type": "code",
      "source": [
        "X.T"
      ],
      "metadata": {
        "colab": {
          "base_uri": "https://localhost:8080/"
        },
        "id": "62lYDHqGvhYE",
        "outputId": "aea99216-9888-4c8f-91b3-7a2251bf7beb"
      },
      "execution_count": null,
      "outputs": [
        {
          "output_type": "execute_result",
          "data": {
            "text/plain": [
              "array([[1000, 1200, 1400, 1600],\n",
              "       [   2,    3,    2,    4],\n",
              "       [  10,    5,   20,    2]])"
            ]
          },
          "metadata": {},
          "execution_count": 62
        }
      ]
    },
    {
      "cell_type": "code",
      "source": [
        "# --- SCALE X and y ---\n",
        "X_mean = X.mean(axis=0)\n",
        "X_std = X.std(axis=0)\n",
        "X_scaled = (X - X_mean) / X_std\n",
        "\n",
        "y_mean = y.mean()\n",
        "y_std = y.std()\n",
        "y_scaled = (y - y_mean) / y_std\n",
        "\n",
        "# --- INIT weights ---\n",
        "w = np.zeros(X.shape[1])\n",
        "b = 0\n",
        "learning_rate = 0.01\n",
        "epochs = 1000\n",
        "\n",
        "# --- TRAINING LOOP ---\n",
        "print(\"Start training...\")\n",
        "print(f\"Initial weights: {w}, b = {b}\")\n",
        "print(\"-\" * 50)\n",
        "\n",
        "for epoch in range(epochs):\n",
        "    # y_hat = np.dot(X_scaled, w) + b\n",
        "    y_hat = predict_with_multi_features(w, X_scaled, b)\n",
        "    #cost = np.mean((y_scaled - y_hat) ** 2)\n",
        "    cost = compute_cost((y_hat - y_scaled),y_scaled)\n",
        "    dw = (2 / len(y_scaled)) * np.dot(X_scaled.T, (y_hat - y_scaled))\n",
        "    db = (2 / len(y_scaled)) * np.sum(y_hat - y_scaled)\n",
        "\n",
        "    dw, db = compute_gradients_for_multiple_features(X_scaled, y_scaled, y_hat)\n",
        "\n",
        "    w -= learning_rate * dw\n",
        "    b -= learning_rate * db\n",
        "\n",
        "    if epoch % 100 == 0 or epoch == epochs - 1:\n",
        "        print(f\"Epoch {epoch}: Cost = {cost:.4f}, w = {w}, b = {b:.4f}\")\n",
        "\n",
        "print(\"-\" * 50)\n",
        "print(\"Training completed!\")\n",
        "\n",
        "# --- UNSCALE predictions for real-world output ---\n",
        "y_pred_scaled = np.dot(X_scaled, w) + b\n",
        "y_pred = y_pred_scaled * y_std + y_mean\n",
        "\n",
        "print(\"\\nTesting final model:\")\n",
        "print(\"Predictions:\", np.round(y_pred, 2))\n",
        "print(\"Targets:    \", y)\n",
        "print(\"Difference: \", np.round(y_pred - y, 2))\n"
      ],
      "metadata": {
        "colab": {
          "base_uri": "https://localhost:8080/"
        },
        "id": "KKicDcxS3dX0",
        "outputId": "e0dd2dda-e4f8-48c3-b3d4-161dd00030cf"
      },
      "execution_count": null,
      "outputs": [
        {
          "output_type": "stream",
          "name": "stdout",
          "text": [
            "Start training...\n",
            "Initial weights: [0. 0. 0.], b = 0\n",
            "--------------------------------------------------\n",
            "Epoch 0: Cost = 4.0000, w = [ 0.01401447  0.01514481 -0.00969374], b = 0.0000\n",
            "Epoch 100: Cost = 1.1062, w = [ 0.48711794  0.4251818  -0.20180018], b = 0.0000\n",
            "Epoch 200: Cost = 1.0133, w = [ 0.54224996  0.43584271 -0.17524399], b = 0.0000\n",
            "Epoch 300: Cost = 1.0030, w = [ 0.55433436  0.43542013 -0.16647035], b = 0.0000\n",
            "Epoch 400: Cost = 1.0009, w = [ 0.55747862  0.43494329 -0.16440218], b = 0.0000\n",
            "Epoch 500: Cost = 1.0003, w = [ 0.55842887  0.4345373  -0.16409032], b = 0.0000\n",
            "Epoch 600: Cost = 1.0002, w = [ 0.55882784  0.43415258 -0.16422223], b = 0.0000\n",
            "Epoch 700: Cost = 1.0002, w = [ 0.55908752  0.43377416 -0.16446534], b = 0.0000\n",
            "Epoch 800: Cost = 1.0002, w = [ 0.55931163  0.43339819 -0.16473581], b = 0.0000\n",
            "Epoch 900: Cost = 1.0002, w = [ 0.55952631  0.43302369 -0.16501253], b = 0.0000\n",
            "Epoch 999: Cost = 1.0002, w = [ 0.55973601  0.43265415 -0.16528742], b = 0.0000\n",
            "--------------------------------------------------\n",
            "Training completed!\n",
            "\n",
            "Testing final model:\n",
            "Predictions: [219.58 280.59 260.1  365.73]\n",
            "Targets:     [220 280 260 366]\n",
            "Difference:  [-0.42  0.59  0.1  -0.27]\n"
          ]
        }
      ]
    },
    {
      "cell_type": "code",
      "source": [],
      "metadata": {
        "id": "m6WZgJZf5Sn2"
      },
      "execution_count": null,
      "outputs": []
    }
  ]
}